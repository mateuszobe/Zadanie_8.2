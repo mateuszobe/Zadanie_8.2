{
 "cells": [
  {
   "cell_type": "markdown",
   "id": "a82fa12a-6c33-4faf-b2e9-d860dfcec7e5",
   "metadata": {},
   "source": [
    "**#0 Wczytanie danych:**"
   ]
  },
  {
   "cell_type": "code",
   "execution_count": 7,
   "id": "b31d6172-d285-4127-888c-5d78f91e94f5",
   "metadata": {},
   "outputs": [
    {
     "data": {
      "text/html": [
       "<div>\n",
       "<style scoped>\n",
       "    .dataframe tbody tr th:only-of-type {\n",
       "        vertical-align: middle;\n",
       "    }\n",
       "\n",
       "    .dataframe tbody tr th {\n",
       "        vertical-align: top;\n",
       "    }\n",
       "\n",
       "    .dataframe thead th {\n",
       "        text-align: right;\n",
       "    }\n",
       "</style>\n",
       "<table border=\"1\" class=\"dataframe\">\n",
       "  <thead>\n",
       "    <tr style=\"text-align: right;\">\n",
       "      <th></th>\n",
       "      <th>POS</th>\n",
       "      <th>TITLE</th>\n",
       "      <th>ARTIST</th>\n",
       "      <th>YEAR</th>\n",
       "      <th>HIGH POSN</th>\n",
       "    </tr>\n",
       "  </thead>\n",
       "  <tbody>\n",
       "    <tr>\n",
       "      <th>0</th>\n",
       "      <td>1</td>\n",
       "      <td>GREATEST HITS</td>\n",
       "      <td>QUEEN</td>\n",
       "      <td>1981</td>\n",
       "      <td>1</td>\n",
       "    </tr>\n",
       "    <tr>\n",
       "      <th>1</th>\n",
       "      <td>2</td>\n",
       "      <td>GOLD - GREATEST HITS</td>\n",
       "      <td>ABBA</td>\n",
       "      <td>1992</td>\n",
       "      <td>1</td>\n",
       "    </tr>\n",
       "    <tr>\n",
       "      <th>2</th>\n",
       "      <td>3</td>\n",
       "      <td>SGT PEPPER'S LONELY HEARTS CLUB BAND</td>\n",
       "      <td>BEATLES</td>\n",
       "      <td>1967</td>\n",
       "      <td>1</td>\n",
       "    </tr>\n",
       "    <tr>\n",
       "      <th>3</th>\n",
       "      <td>4</td>\n",
       "      <td>21</td>\n",
       "      <td>ADELE</td>\n",
       "      <td>2011</td>\n",
       "      <td>1</td>\n",
       "    </tr>\n",
       "    <tr>\n",
       "      <th>4</th>\n",
       "      <td>5</td>\n",
       "      <td>WHAT'S THE STORY MORNING GLORY</td>\n",
       "      <td>OASIS</td>\n",
       "      <td>1995</td>\n",
       "      <td>1</td>\n",
       "    </tr>\n",
       "  </tbody>\n",
       "</table>\n",
       "</div>"
      ],
      "text/plain": [
       "   POS                                 TITLE   ARTIST  YEAR  HIGH POSN\n",
       "0    1                         GREATEST HITS    QUEEN  1981          1\n",
       "1    2                  GOLD - GREATEST HITS     ABBA  1992          1\n",
       "2    3  SGT PEPPER'S LONELY HEARTS CLUB BAND  BEATLES  1967          1\n",
       "3    4                                    21    ADELE  2011          1\n",
       "4    5        WHAT'S THE STORY MORNING GLORY    OASIS  1995          1"
      ]
     },
     "execution_count": 7,
     "metadata": {},
     "output_type": "execute_result"
    }
   ],
   "source": [
    "import pandas as pd\n",
    "data = pd.read_html('https://www.officialcharts.com/chart-news/the-best-selling-albums-of-all-time-on-the-official-uk-chart__15551/', header=0)\n",
    "data[0].head()"
   ]
  },
  {
   "cell_type": "markdown",
   "id": "67b686a9-e3bd-492b-8d38-62405f4ee7f5",
   "metadata": {},
   "source": [
    "**#1 Zmiana nagłówków kolumn:**"
   ]
  },
  {
   "cell_type": "code",
   "execution_count": 35,
   "id": "09e30874-6162-4941-b3d7-3e0dfdd55f3d",
   "metadata": {},
   "outputs": [
    {
     "data": {
      "text/html": [
       "<div>\n",
       "<style scoped>\n",
       "    .dataframe tbody tr th:only-of-type {\n",
       "        vertical-align: middle;\n",
       "    }\n",
       "\n",
       "    .dataframe tbody tr th {\n",
       "        vertical-align: top;\n",
       "    }\n",
       "\n",
       "    .dataframe thead th {\n",
       "        text-align: right;\n",
       "    }\n",
       "</style>\n",
       "<table border=\"1\" class=\"dataframe\">\n",
       "  <thead>\n",
       "    <tr style=\"text-align: right;\">\n",
       "      <th></th>\n",
       "      <th>Pos</th>\n",
       "      <th>Tytuł</th>\n",
       "      <th>Artysta</th>\n",
       "      <th>Rok</th>\n",
       "    </tr>\n",
       "  </thead>\n",
       "  <tbody>\n",
       "    <tr>\n",
       "      <th>0</th>\n",
       "      <td>1</td>\n",
       "      <td>GREATEST HITS</td>\n",
       "      <td>QUEEN</td>\n",
       "      <td>1981</td>\n",
       "    </tr>\n",
       "    <tr>\n",
       "      <th>1</th>\n",
       "      <td>2</td>\n",
       "      <td>GOLD - GREATEST HITS</td>\n",
       "      <td>ABBA</td>\n",
       "      <td>1992</td>\n",
       "    </tr>\n",
       "    <tr>\n",
       "      <th>2</th>\n",
       "      <td>3</td>\n",
       "      <td>SGT PEPPER'S LONELY HEARTS CLUB BAND</td>\n",
       "      <td>BEATLES</td>\n",
       "      <td>1967</td>\n",
       "    </tr>\n",
       "    <tr>\n",
       "      <th>3</th>\n",
       "      <td>4</td>\n",
       "      <td>21</td>\n",
       "      <td>ADELE</td>\n",
       "      <td>2011</td>\n",
       "    </tr>\n",
       "    <tr>\n",
       "      <th>4</th>\n",
       "      <td>5</td>\n",
       "      <td>WHAT'S THE STORY MORNING GLORY</td>\n",
       "      <td>OASIS</td>\n",
       "      <td>1995</td>\n",
       "    </tr>\n",
       "  </tbody>\n",
       "</table>\n",
       "</div>"
      ],
      "text/plain": [
       "   Pos                                 Tytuł  Artysta   Rok\n",
       "0    1                         GREATEST HITS    QUEEN  1981\n",
       "1    2                  GOLD - GREATEST HITS     ABBA  1992\n",
       "2    3  SGT PEPPER'S LONELY HEARTS CLUB BAND  BEATLES  1967\n",
       "3    4                                    21    ADELE  2011\n",
       "4    5        WHAT'S THE STORY MORNING GLORY    OASIS  1995"
      ]
     },
     "execution_count": 35,
     "metadata": {},
     "output_type": "execute_result"
    }
   ],
   "source": [
    "df = data[0]\n",
    "df.rename(columns = {'TITLE':'TYTUŁ', 'ARTIST':'ARTYSTA', 'YEAR':'ROK', 'HIGH POSN':'MAX POZ'}, inplace=True)\n",
    "df.head()"
   ]
  },
  {
   "cell_type": "markdown",
   "id": "1eb3c6e6-2b7b-40a3-9f8d-267a2d4bfaf2",
   "metadata": {},
   "source": [
    "**#2 Ile jest pojedynczych artystów:**"
   ]
  },
  {
   "cell_type": "code",
   "execution_count": 8,
   "id": "594a8867-0ca4-4415-9c72-02c5c4baa37b",
   "metadata": {},
   "outputs": [
    {
     "data": {
      "text/plain": [
       "47"
      ]
     },
     "execution_count": 8,
     "metadata": {},
     "output_type": "execute_result"
    }
   ],
   "source": [
    "df['ARTYSTA'].nunique()"
   ]
  },
  {
   "cell_type": "markdown",
   "id": "aaf6dcb7-d97a-491b-b3d8-61c86ac60974",
   "metadata": {},
   "source": [
    "**#3 Które zespoły pojawiają się najczęściej na liście:**"
   ]
  },
  {
   "cell_type": "code",
   "execution_count": 10,
   "id": "34dac8ad-2ecb-4042-9812-88fd628007a3",
   "metadata": {},
   "outputs": [
    {
     "data": {
      "text/plain": [
       "ARTYSTA\n",
       "COLDPLAY         3\n",
       "TAKE THAT        3\n",
       "FLEETWOOD MAC    2\n",
       "ABBA             2\n",
       "DIDO             2\n",
       "Name: count, dtype: int64"
      ]
     },
     "execution_count": 10,
     "metadata": {},
     "output_type": "execute_result"
    }
   ],
   "source": [
    "df['ARTYSTA'].value_counts().head(5)"
   ]
  },
  {
   "cell_type": "markdown",
   "id": "08df8400-7eaf-4309-b9a6-9c1f298a1035",
   "metadata": {},
   "source": [
    "**#4 Zmień nagłówki kolumn:**"
   ]
  },
  {
   "cell_type": "code",
   "execution_count": 36,
   "id": "c954d64d-0e2a-49b9-b1b9-a5ce37ec05c5",
   "metadata": {},
   "outputs": [
    {
     "data": {
      "text/html": [
       "<div>\n",
       "<style scoped>\n",
       "    .dataframe tbody tr th:only-of-type {\n",
       "        vertical-align: middle;\n",
       "    }\n",
       "\n",
       "    .dataframe tbody tr th {\n",
       "        vertical-align: top;\n",
       "    }\n",
       "\n",
       "    .dataframe thead th {\n",
       "        text-align: right;\n",
       "    }\n",
       "</style>\n",
       "<table border=\"1\" class=\"dataframe\">\n",
       "  <thead>\n",
       "    <tr style=\"text-align: right;\">\n",
       "      <th></th>\n",
       "      <th>Pos</th>\n",
       "      <th>Tytuł</th>\n",
       "      <th>Artysta</th>\n",
       "      <th>Rok</th>\n",
       "    </tr>\n",
       "  </thead>\n",
       "  <tbody>\n",
       "    <tr>\n",
       "      <th>0</th>\n",
       "      <td>1</td>\n",
       "      <td>GREATEST HITS</td>\n",
       "      <td>QUEEN</td>\n",
       "      <td>1981</td>\n",
       "    </tr>\n",
       "    <tr>\n",
       "      <th>1</th>\n",
       "      <td>2</td>\n",
       "      <td>GOLD - GREATEST HITS</td>\n",
       "      <td>ABBA</td>\n",
       "      <td>1992</td>\n",
       "    </tr>\n",
       "    <tr>\n",
       "      <th>2</th>\n",
       "      <td>3</td>\n",
       "      <td>SGT PEPPER'S LONELY HEARTS CLUB BAND</td>\n",
       "      <td>BEATLES</td>\n",
       "      <td>1967</td>\n",
       "    </tr>\n",
       "    <tr>\n",
       "      <th>3</th>\n",
       "      <td>4</td>\n",
       "      <td>21</td>\n",
       "      <td>ADELE</td>\n",
       "      <td>2011</td>\n",
       "    </tr>\n",
       "    <tr>\n",
       "      <th>4</th>\n",
       "      <td>5</td>\n",
       "      <td>WHAT'S THE STORY MORNING GLORY</td>\n",
       "      <td>OASIS</td>\n",
       "      <td>1995</td>\n",
       "    </tr>\n",
       "  </tbody>\n",
       "</table>\n",
       "</div>"
      ],
      "text/plain": [
       "   Pos                                 Tytuł  Artysta   Rok\n",
       "0    1                         GREATEST HITS    QUEEN  1981\n",
       "1    2                  GOLD - GREATEST HITS     ABBA  1992\n",
       "2    3  SGT PEPPER'S LONELY HEARTS CLUB BAND  BEATLES  1967\n",
       "3    4                                    21    ADELE  2011\n",
       "4    5        WHAT'S THE STORY MORNING GLORY    OASIS  1995"
      ]
     },
     "execution_count": 36,
     "metadata": {},
     "output_type": "execute_result"
    }
   ],
   "source": [
    "df.columns = df.columns.str.title()\n",
    "df.head()"
   ]
  },
  {
   "cell_type": "markdown",
   "id": "37094231-ca0d-4301-a0e8-7547de031459",
   "metadata": {},
   "source": [
    "**#5 Wyrzuć z tabeli kolumnę ‘Max Poz':**"
   ]
  },
  {
   "cell_type": "code",
   "execution_count": null,
   "id": "2f227ee8-9bcb-4380-b80b-2fa699b2475f",
   "metadata": {},
   "outputs": [],
   "source": [
    "df.drop('Max Poz', axis = 1, inplace = True)"
   ]
  },
  {
   "cell_type": "markdown",
   "id": "d0287882-33a2-4ebf-af6d-1088f9d6a19d",
   "metadata": {},
   "source": [
    "**#6 W którym roku wyszło najwięcej albumów znajdujących się na liście?**"
   ]
  },
  {
   "cell_type": "code",
   "execution_count": 30,
   "id": "a1947410-3219-4039-ae8e-d1c8066141ce",
   "metadata": {},
   "outputs": [
    {
     "data": {
      "text/plain": [
       "Rok\n",
       "2000    4\n",
       "1987    4\n",
       "2006    3\n",
       "1977    3\n",
       "1998    3\n",
       "Name: count, dtype: int64"
      ]
     },
     "execution_count": 30,
     "metadata": {},
     "output_type": "execute_result"
    }
   ],
   "source": [
    "df['Rok'].value_counts().head(5)"
   ]
  },
  {
   "cell_type": "markdown",
   "id": "cb9b091e-2901-416a-b01c-a9ed27cfee5e",
   "metadata": {},
   "source": [
    "**#7 Ile albumów wydanych między 1960 a 1990 rokiem włącznie znajduje się na liście?**"
   ]
  },
  {
   "cell_type": "code",
   "execution_count": 33,
   "id": "b7c69353-dcf6-405b-a7f6-6fcde79fac66",
   "metadata": {},
   "outputs": [
    {
     "name": "stdout",
     "output_type": "stream",
     "text": [
      "22\n"
     ]
    }
   ],
   "source": [
    "df_filtered = df[(df['Rok'] >= 1960) & (df['Rok'] <= 1990)]\n",
    "albums = df_filtered.shape[0]\n",
    "print(albums)\n"
   ]
  },
  {
   "cell_type": "markdown",
   "id": "3a579cd0-e397-49be-b387-eb04763a71c2",
   "metadata": {},
   "source": [
    "**#8 W którym roku wydany został najmłodszy album na liście?**"
   ]
  },
  {
   "cell_type": "code",
   "execution_count": 34,
   "id": "cf4dc656-ef91-43e1-8beb-673b262947ef",
   "metadata": {},
   "outputs": [
    {
     "name": "stdout",
     "output_type": "stream",
     "text": [
      "2015\n"
     ]
    }
   ],
   "source": [
    "youngest_year = df['Rok'].max()\n",
    "print(youngest_year)"
   ]
  },
  {
   "cell_type": "markdown",
   "id": "c74b7902-5c1b-41fc-ac05-7e8e96d2b745",
   "metadata": {},
   "source": [
    "**#9 Przygotuj listę najwcześniej wydanych albumów każdego artysty, który znalazł się na liście.**"
   ]
  },
  {
   "cell_type": "code",
   "execution_count": 42,
   "id": "fa801c55-895e-4cc4-ad42-c7c12a25e73a",
   "metadata": {},
   "outputs": [
    {
     "name": "stdout",
     "output_type": "stream",
     "text": [
      "                     Artysta                                   Tytuł   Rok\n",
      "45                      ABBA                           GREATEST HITS  1975\n",
      "3                      ADELE                                      21  2011\n",
      "40         ALANIS MORISSETTE                      JAGGED LITTLE PILL  1995\n",
      "12             AMY WINEHOUSE                           BACK TO BLACK  2006\n",
      "2                    BEATLES    SGT PEPPER'S LONELY HEARTS CLUB BAND  1967\n",
      "15  BOB MARLEY & THE WAILERS                                  LEGEND  1984\n",
      "44                  COLDPLAY                              PARACHUTES  2000\n",
      "27                     CORRS                         TALK ON CORNERS  1997\n",
      "25                DAVID GRAY                            WHITE LADDER  1998\n",
      "24                      DIDO                                NO ANGEL  2000\n",
      "7               DIRE STRAITS                        BROTHERS IN ARMS  1985\n",
      "48                ED SHEERAN                                       X  2014\n",
      "54                    EMINEM                 THE MARSHALL MATHERS LP  2000\n",
      "10             FLEETWOOD MAC                                 RUMOURS  1977\n",
      "52            GEORGE MICHAEL        LADIES & GENTLEMEN - THE BEST OF  1998\n",
      "16               JAMES BLUNT                          BACK TO BEDLAM  2004\n",
      "36                JEFF WAYNE                   THE WAR OF THE WORLDS  1978\n",
      "34                     KEANE                         HOPES AND FEARS  2004\n",
      "32             KINGS OF LEON                       ONLY BY THE NIGHT  2008\n",
      "29                 LADY GAGA                                THE FAME  2008\n",
      "22               LEONA LEWIS                                  SPIRIT  2007\n",
      "11                   MADONNA               THE IMMACULATE COLLECTION  1990\n",
      "18                 MEAT LOAF                         BAT OUT OF HELL  1977\n",
      "23             MICHAEL BUBLE                              CRAZY LOVE  2009\n",
      "5            MICHAEL JACKSON                                THRILLER  1982\n",
      "41             MIKE OLDFIELD                           TUBULAR BELLS  1973\n",
      "49               NORAH JONES                       COME AWAY WITH ME  2002\n",
      "4                      OASIS          WHAT'S THE STORY MORNING GLORY  1995\n",
      "51   ORIGINAL CAST RECORDING                      THE SOUND OF MUSIC  1965\n",
      "46       ORIGINAL SOUNDTRACK                                  GREASE  1977\n",
      "50                PAUL SIMON                               GRACELAND  1986\n",
      "38              PHIL COLLINS                           BUT SERIOUSLY  1989\n",
      "6                 PINK FLOYD               THE DARK SIDE OF THE MOON  1973\n",
      "0                      QUEEN                           GREATEST HITS  1981\n",
      "59                       REM                AUTOMATIC FOR THE PEOPLE  1992\n",
      "47           ROBBIE WILLIAMS                 I'VE BEEN EXPECTING YOU  1998\n",
      "37           SCISSOR SISTERS                         SCISSOR SISTERS  2004\n",
      "14              SHANIA TWAIN                            COME ON OVER  1997\n",
      "20         SIMON & GARFUNKEL              BRIDGE OVER TROUBLED WATER  1970\n",
      "13                SIMPLY RED                                   STARS  1991\n",
      "57               SNOW PATROL                               EYES OPEN  2006\n",
      "28               SPICE GIRLS                                   SPICE  1996\n",
      "58                 TAKE THAT  NEVER FORGET - THE ULTIMATE COLLECTION  2005\n",
      "43             TRACY CHAPMAN                           TRACY CHAPMAN  1988\n",
      "42                    TRAVIS                             THE MAN WHO  1999\n",
      "35                        U2                         THE JOSHUA TREE  1987\n",
      "17                     VERVE                             URBAN HYMNS  1997\n"
     ]
    }
   ],
   "source": [
    "earliest_albums = df.loc[df.groupby('Artysta')['Rok'].idxmin()]\n",
    "earliest_albums = earliest_albums[['Artysta', 'Tytuł', 'Rok']]\n",
    "print(earliest_albums)"
   ]
  },
  {
   "cell_type": "markdown",
   "id": "a7f1b2c0-66a8-4bf0-b6ee-714e6ac42ad4",
   "metadata": {},
   "source": [
    "**#10 Listę zapisz do pliku csv.**"
   ]
  },
  {
   "cell_type": "code",
   "execution_count": 43,
   "id": "f3ebd5fb-cf7e-4f70-b66d-669bc5fd9a2c",
   "metadata": {},
   "outputs": [],
   "source": [
    "df.to_csv('albumy wszechczasów.csv', index=False)"
   ]
  }
 ],
 "metadata": {
  "kernelspec": {
   "display_name": "Python 3 (ipykernel)",
   "language": "python",
   "name": "python3"
  },
  "language_info": {
   "codemirror_mode": {
    "name": "ipython",
    "version": 3
   },
   "file_extension": ".py",
   "mimetype": "text/x-python",
   "name": "python",
   "nbconvert_exporter": "python",
   "pygments_lexer": "ipython3",
   "version": "3.12.7"
  }
 },
 "nbformat": 4,
 "nbformat_minor": 5
}
